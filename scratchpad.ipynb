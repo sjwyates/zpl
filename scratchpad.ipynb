{
 "cells": [
  {
   "cell_type": "code",
   "execution_count": 43,
   "metadata": {
    "collapsed": true
   },
   "outputs": [],
   "source": [
    "from zebra import Zebra\n",
    "import pandas as pd\n",
    "from zpl import Label"
   ]
  },
  {
   "cell_type": "code",
   "execution_count": 49,
   "outputs": [],
   "source": [
    "z = Zebra()\n",
    "z.setqueue('ZDesigner ZT411-203dpi ZPL')\n",
    "z.setup()"
   ],
   "metadata": {
    "collapsed": false,
    "pycharm": {
     "name": "#%%\n"
    }
   }
  },
  {
   "cell_type": "code",
   "execution_count": 58,
   "outputs": [
    {
     "data": {
      "text/plain": "  Sample Point          Test\n0    C7UP12402  Conductivity\n1    C7UP12402           TOC\n2    C7UP12402     Bioburden\n3    C7UP12554  Conductivity\n4    C7UP12554           TOC\n5    C7UP12554     Bioburden\n6    C7UP20729  Conductivity\n7    C7UP20729           TOC\n8    C7UP20729     Bioburden",
      "text/html": "<div>\n<style scoped>\n    .dataframe tbody tr th:only-of-type {\n        vertical-align: middle;\n    }\n\n    .dataframe tbody tr th {\n        vertical-align: top;\n    }\n\n    .dataframe thead th {\n        text-align: right;\n    }\n</style>\n<table border=\"1\" class=\"dataframe\">\n  <thead>\n    <tr style=\"text-align: right;\">\n      <th></th>\n      <th>Sample Point</th>\n      <th>Test</th>\n    </tr>\n  </thead>\n  <tbody>\n    <tr>\n      <th>0</th>\n      <td>C7UP12402</td>\n      <td>Conductivity</td>\n    </tr>\n    <tr>\n      <th>1</th>\n      <td>C7UP12402</td>\n      <td>TOC</td>\n    </tr>\n    <tr>\n      <th>2</th>\n      <td>C7UP12402</td>\n      <td>Bioburden</td>\n    </tr>\n    <tr>\n      <th>3</th>\n      <td>C7UP12554</td>\n      <td>Conductivity</td>\n    </tr>\n    <tr>\n      <th>4</th>\n      <td>C7UP12554</td>\n      <td>TOC</td>\n    </tr>\n    <tr>\n      <th>5</th>\n      <td>C7UP12554</td>\n      <td>Bioburden</td>\n    </tr>\n    <tr>\n      <th>6</th>\n      <td>C7UP20729</td>\n      <td>Conductivity</td>\n    </tr>\n    <tr>\n      <th>7</th>\n      <td>C7UP20729</td>\n      <td>TOC</td>\n    </tr>\n    <tr>\n      <th>8</th>\n      <td>C7UP20729</td>\n      <td>Bioburden</td>\n    </tr>\n  </tbody>\n</table>\n</div>"
     },
     "execution_count": 58,
     "metadata": {},
     "output_type": "execute_result"
    }
   ],
   "source": [
    "samples_df = pd.read_excel('test_excel.xlsx')"
   ],
   "metadata": {
    "collapsed": false,
    "pycharm": {
     "name": "#%%\n"
    }
   }
  },
  {
   "cell_type": "code",
   "execution_count": 53,
   "outputs": [],
   "source": [
    "for index, row in samples_df.iterrows():\n",
    "    l = Label(45, 45)\n",
    "    height = 5\n",
    "    left_margin = 3\n",
    "    l.origin(left_margin,height)\n",
    "    l.write_text(f\"Sample Point: {row['Sample Point']}\", char_height=2, char_width=2)\n",
    "    l.endorigin()\n",
    "    height += 2\n",
    "    l.origin(left_margin,height)\n",
    "    l.write_text(f\"Test: {row['Test']}\", char_height=2, char_width=2)\n",
    "    l.endorigin()\n",
    "    height += 3\n",
    "    z.output(l.dumpZPL())"
   ],
   "metadata": {
    "collapsed": false,
    "pycharm": {
     "name": "#%%\n"
    }
   }
  },
  {
   "cell_type": "code",
   "execution_count": 54,
   "outputs": [],
   "source": [
    "def write_line(text, height, t_height, t_width, row_height):\n",
    "    l.origin(left_margin, height)\n",
    "    l.write_text(text, char_height=t_height, char_width=t_width)\n",
    "    l.endorigin()"
   ],
   "metadata": {
    "collapsed": false,
    "pycharm": {
     "name": "#%%\n"
    }
   }
  }
 ],
 "metadata": {
  "kernelspec": {
   "display_name": "Python 3",
   "language": "python",
   "name": "python3"
  },
  "language_info": {
   "codemirror_mode": {
    "name": "ipython",
    "version": 2
   },
   "file_extension": ".py",
   "mimetype": "text/x-python",
   "name": "python",
   "nbconvert_exporter": "python",
   "pygments_lexer": "ipython2",
   "version": "2.7.6"
  }
 },
 "nbformat": 4,
 "nbformat_minor": 0
}